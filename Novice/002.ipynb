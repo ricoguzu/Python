{
 "cells": [
  {
   "attachments": {},
   "cell_type": "markdown",
   "metadata": {},
   "source": [
    "Working with Lists and Tuples"
   ]
  },
  {
   "cell_type": "code",
   "execution_count": 2,
   "metadata": {},
   "outputs": [
    {
     "data": {
      "text/plain": [
       "[]"
      ]
     },
     "execution_count": 2,
     "metadata": {},
     "output_type": "execute_result"
    }
   ],
   "source": [
    "#empyt list\n",
    "empty_list =[]\n",
    "empty_list"
   ]
  },
  {
   "cell_type": "code",
   "execution_count": 3,
   "metadata": {},
   "outputs": [
    {
     "data": {
      "text/plain": [
       "['honda', 'Benz', 'Mazda', 'Hilux', 'Range Rover']"
      ]
     },
     "execution_count": 3,
     "metadata": {},
     "output_type": "execute_result"
    }
   ],
   "source": [
    "#list can contain any data type\n",
    "#values separated by a comma\n",
    "\n",
    "list_str = ['honda', \"Benz\", \"Mazda\", \"Hilux\", \"Range Rover\"]\n",
    "\n",
    "list_str"
   ]
  },
  {
   "cell_type": "code",
   "execution_count": 4,
   "metadata": {},
   "outputs": [
    {
     "data": {
      "text/plain": [
       "list"
      ]
     },
     "execution_count": 4,
     "metadata": {},
     "output_type": "execute_result"
    }
   ],
   "source": [
    "type(list_str)"
   ]
  },
  {
   "cell_type": "code",
   "execution_count": 5,
   "metadata": {},
   "outputs": [
    {
     "data": {
      "text/plain": [
       "[True, False]"
      ]
     },
     "execution_count": 5,
     "metadata": {},
     "output_type": "execute_result"
    }
   ],
   "source": [
    "list_bool = [True, False]\n",
    "\n",
    "list_bool"
   ]
  },
  {
   "cell_type": "code",
   "execution_count": 6,
   "metadata": {},
   "outputs": [
    {
     "data": {
      "text/plain": [
       "['honda', 'Benz', 'Mazda', 'Hilux', 'Range Rover']"
      ]
     },
     "execution_count": 6,
     "metadata": {},
     "output_type": "execute_result"
    }
   ],
   "source": [
    "car_list = ['honda', \"Benz\", \"Mazda\", \"Hilux\", \"Range Rover\"]\n",
    "\n",
    "car_list"
   ]
  },
  {
   "cell_type": "code",
   "execution_count": 7,
   "metadata": {},
   "outputs": [
    {
     "name": "stdout",
     "output_type": "stream",
     "text": [
      "honda\n",
      "Benz\n",
      "Hilux\n"
     ]
    }
   ],
   "source": [
    "#access elements in a list\n",
    "print(car_list[0])\n",
    "print(car_list[1])\n",
    "print(car_list[3])\n"
   ]
  },
  {
   "cell_type": "code",
   "execution_count": 8,
   "metadata": {},
   "outputs": [
    {
     "name": "stdout",
     "output_type": "stream",
     "text": [
      "Range Rover\n",
      "Mazda\n"
     ]
    }
   ],
   "source": [
    "#access the last element\n",
    "print(car_list[-1])\n",
    "\n",
    "#use -ve value to access elements backward\n",
    "print(car_list[-3])"
   ]
  },
  {
   "cell_type": "code",
   "execution_count": 9,
   "metadata": {},
   "outputs": [
    {
     "name": "stdout",
     "output_type": "stream",
     "text": [
      "New car at index 3 is:  Rolls Royce\n"
     ]
    },
    {
     "data": {
      "text/plain": [
       "['honda', 'Benz', 'Mazda', 'Rolls Royce', 'Range Rover']"
      ]
     },
     "execution_count": 9,
     "metadata": {},
     "output_type": "execute_result"
    }
   ],
   "source": [
    "#update the car at index 3 \n",
    "car_list[3] = \"Rolls Royce\"\n",
    "\n",
    "print(\"New car at index 3 is: \", car_list[3])\n",
    "\n",
    "car_list"
   ]
  },
  {
   "cell_type": "code",
   "execution_count": 10,
   "metadata": {},
   "outputs": [
    {
     "data": {
      "text/plain": [
       "['honda',\n",
       " 'Benz',\n",
       " 'Mazda',\n",
       " 'Rolls Royce',\n",
       " 'Range Rover',\n",
       " 'Subaru',\n",
       " 'Ford Fusion']"
      ]
     },
     "execution_count": 10,
     "metadata": {},
     "output_type": "execute_result"
    }
   ],
   "source": [
    "#add a new element to the list\n",
    "car_list.append('Subaru')\n",
    "car_list.append('Ford Fusion')\n",
    "car_list"
   ]
  },
  {
   "cell_type": "code",
   "execution_count": 11,
   "metadata": {},
   "outputs": [
    {
     "data": {
      "text/plain": [
       "7"
      ]
     },
     "execution_count": 11,
     "metadata": {},
     "output_type": "execute_result"
    }
   ],
   "source": [
    "len(car_list)"
   ]
  },
  {
   "cell_type": "code",
   "execution_count": 12,
   "metadata": {},
   "outputs": [
    {
     "data": {
      "text/plain": [
       "['honda',\n",
       " 'Benz',\n",
       " 'Mazda',\n",
       " 'Rolls Royce',\n",
       " 'Range Rover',\n",
       " 'Subaru',\n",
       " 'Ford Fusion',\n",
       " 'Nissan']"
      ]
     },
     "execution_count": 12,
     "metadata": {},
     "output_type": "execute_result"
    }
   ],
   "source": [
    "#insert an element in a specific index\n",
    "car_list.insert(11, 'Nissan')\n",
    "\n",
    "car_list"
   ]
  },
  {
   "cell_type": "code",
   "execution_count": 13,
   "metadata": {},
   "outputs": [
    {
     "data": {
      "text/plain": [
       "8"
      ]
     },
     "execution_count": 13,
     "metadata": {},
     "output_type": "execute_result"
    }
   ],
   "source": [
    "len(car_list)"
   ]
  },
  {
   "cell_type": "code",
   "execution_count": 14,
   "metadata": {},
   "outputs": [
    {
     "data": {
      "text/plain": [
       "['honda',\n",
       " 'Benz',\n",
       " 'Mazda',\n",
       " 'Rolls Royce',\n",
       " 'Range Rover',\n",
       " 'Subaru',\n",
       " 'Ford Fusion',\n",
       " 'Nissan',\n",
       " 'KIA',\n",
       " 'Ferrari']"
      ]
     },
     "execution_count": 14,
     "metadata": {},
     "output_type": "execute_result"
    }
   ],
   "source": [
    "#add multiple elements at the end of the list\n",
    "car_list.extend(['KIA','Ferrari'])\n",
    "car_list"
   ]
  },
  {
   "cell_type": "code",
   "execution_count": 15,
   "metadata": {},
   "outputs": [],
   "source": [
    "#remove an element\n",
    "car_list.remove('Subaru')"
   ]
  },
  {
   "cell_type": "code",
   "execution_count": 16,
   "metadata": {},
   "outputs": [
    {
     "data": {
      "text/plain": [
       "['honda',\n",
       " 'Benz',\n",
       " 'Mazda',\n",
       " 'Rolls Royce',\n",
       " 'Range Rover',\n",
       " 'Ford Fusion',\n",
       " 'Nissan',\n",
       " 'KIA',\n",
       " 'Ferrari']"
      ]
     },
     "execution_count": 16,
     "metadata": {},
     "output_type": "execute_result"
    }
   ],
   "source": [
    "car_list"
   ]
  },
  {
   "cell_type": "code",
   "execution_count": 18,
   "metadata": {},
   "outputs": [],
   "source": [
    "car_list.remove('Nissan')"
   ]
  }
 ],
 "metadata": {
  "kernelspec": {
   "display_name": "Python 3",
   "language": "python",
   "name": "python3"
  },
  "language_info": {
   "codemirror_mode": {
    "name": "ipython",
    "version": 3
   },
   "file_extension": ".py",
   "mimetype": "text/x-python",
   "name": "python",
   "nbconvert_exporter": "python",
   "pygments_lexer": "ipython3",
   "version": "3.11.4"
  },
  "orig_nbformat": 4
 },
 "nbformat": 4,
 "nbformat_minor": 2
}
